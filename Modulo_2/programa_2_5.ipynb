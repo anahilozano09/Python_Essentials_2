{
 "cells": [
  {
   "cell_type": "code",
   "execution_count": 1,
   "metadata": {},
   "outputs": [
    {
     "name": "stdout",
     "output_type": "stream",
     "text": [
      "IPMB\n"
     ]
    }
   ],
   "source": [
    "# Cifrado César.\n",
    "text = input(\"Ingresa tu mensaje: \")\n",
    "cipher = ''\n",
    "for char in text:\n",
    "    if not char.isalpha():\n",
    "        continue\n",
    "    char = char.upper()\n",
    "    code = ord(char) + 1\n",
    "    if code > ord('Z'):\n",
    "        code = ord('A')\n",
    "    cipher += chr(code)\n",
    "\n",
    "print(cipher)"
   ]
  },
  {
   "cell_type": "code",
   "execution_count": 2,
   "metadata": {},
   "outputs": [
    {
     "name": "stdout",
     "output_type": "stream",
     "text": [
      "AIKZZDC\n"
     ]
    }
   ],
   "source": [
    "# Cifrado César - descifrando un mensaje.\n",
    "cipher = input('Ingresa tu criptograma: ')\n",
    "text = ''\n",
    "for char in cipher:\n",
    "    if not char.isalpha():\n",
    "        continue\n",
    "    char = char.upper()\n",
    "    code = ord(char) - 1\n",
    "    if code < ord('A'):\n",
    "        code = ord('Z')\n",
    "    text += chr(code)\n",
    "\n",
    "print(text)"
   ]
  },
  {
   "cell_type": "code",
   "execution_count": 3,
   "metadata": {},
   "outputs": [
    {
     "name": "stdout",
     "output_type": "stream",
     "text": [
      "El total es: 19.0\n"
     ]
    }
   ],
   "source": [
    "#Procesador de Números.\n",
    "\n",
    "line = input(\"Ingresa una línea de números, sepáralos con espacios: \")\n",
    "strings = line.split()\n",
    "total = 0\n",
    "try:\n",
    "    for substr in strings:\n",
    "        total += float(substr)\n",
    "    print(\"El total es:\", total)\n",
    "except:\n",
    "    print(substr, \"no es un numero.\")"
   ]
  },
  {
   "cell_type": "code",
   "execution_count": 5,
   "metadata": {},
   "outputs": [
    {
     "name": "stdout",
     "output_type": "stream",
     "text": [
      "El IBAN ingresado no es válido.\n"
     ]
    }
   ],
   "source": [
    "# Validador IBAN.\n",
    "\n",
    "iban = input(\"Ingresa un IBAN, por favor: \")\n",
    "iban = iban.replace(' ','')\n",
    "\n",
    "if not iban.isalnum():\n",
    "    print(\"Has introducido caracteres no válidos.\")\n",
    "elif len(iban) < 15:\n",
    "    print(\"El IBAN ingresado es demasiado corto.\")\n",
    "elif len(iban) > 31:\n",
    "    print(\"El IBAN ingresado es demasiado largo.\")\n",
    "else:\n",
    "    iban = (iban[4:] + iban[0:4]).upper()\n",
    "    iban2 = ''\n",
    "    for ch in iban:\n",
    "        if ch.isdigit():\n",
    "            iban2 += ch\n",
    "        else:\n",
    "            iban2 += str(10 + ord(ch) - ord('A'))\n",
    "    iban = int(iban2)\n",
    "    if iban % 97 == 1:\n",
    "        print(\"El IBAN ingresado es válido.\")\n",
    "    else:\n",
    "        print(\"El IBAN ingresado no es válido.\")\n",
    "    "
   ]
  },
  {
   "cell_type": "markdown",
   "metadata": {},
   "source": [
    "2.5.6   LAB   Mejorando el Cifrado César"
   ]
  },
  {
   "cell_type": "code",
   "execution_count": 6,
   "metadata": {},
   "outputs": [
    {
     "name": "stdout",
     "output_type": "stream",
     "text": [
      "cdezabCDEzab 123\n"
     ]
    }
   ],
   "source": [
    "# Ingresa el texto a encriptar.\n",
    "text = input(\"Ingresa un mensaje: \")\n",
    "\n",
    "# Ingresar un valor de cambio válido (repitelo hasta que tengas éxito).\n",
    "shift = 0\n",
    "\n",
    "while shift == 0:\n",
    "    try:    \n",
    "        shift = int(input(\"Ingresa el valor de cambio del cifrado (1..25): \"))\n",
    "        if shift not in range(1,26):\n",
    "        \traise ValueError\n",
    "    except ValueError:\n",
    "        shift = 0\n",
    "    if shift == 0:\n",
    "        print(\"¡Valor de cambio inválido!\")\n",
    "\n",
    "cipher = ''\n",
    "\n",
    "for char in text:\n",
    "    # ¿Es un letra?\n",
    "    if char.isalpha():\n",
    "        # Cambia su código.\n",
    "        code = ord(char) + shift\n",
    "        # Encontrar el código de la primera letra (mayúscula o minúscula).\n",
    "        if char.isupper():\n",
    "            first = ord('A')\n",
    "        else:\n",
    "            first = ord('a')\n",
    "        # Realizar corrección.\n",
    "        code -= first\n",
    "        code %= 26\n",
    "        # Agregar carácter codificado al mensaje.\n",
    "        cipher += chr(first + code)\n",
    "    else:\n",
    "        # Agregar carácter original al mensaje.\n",
    "        cipher += char\n",
    "\n",
    "print(cipher)\n",
    "    "
   ]
  },
  {
   "cell_type": "markdown",
   "metadata": {},
   "source": [
    "2.5.7   LAB   Palíndromos"
   ]
  },
  {
   "cell_type": "code",
   "execution_count": 7,
   "metadata": {},
   "outputs": [
    {
     "name": "stdout",
     "output_type": "stream",
     "text": [
      "Es un palíndromo\n"
     ]
    }
   ],
   "source": [
    "text = input(\"Ingresa un texto: \")\n",
    "\n",
    "# Quitar todos los espacios...\n",
    "text = text.replace(' ','')\n",
    "\n",
    "# ... y revisar si la palabra es igual en ambos sentidos\n",
    "if len(text) > 1 and text.upper() == text[::-1].upper():\n",
    "\tprint(\"Es un palíndromo\")\n",
    "else:\n",
    "\tprint(\"No es un palíndromo\")"
   ]
  },
  {
   "cell_type": "markdown",
   "metadata": {},
   "source": [
    "2.5.8   LAB   Anagrams"
   ]
  },
  {
   "cell_type": "code",
   "execution_count": 8,
   "metadata": {},
   "outputs": [
    {
     "name": "stdout",
     "output_type": "stream",
     "text": [
      "Anagramas\n"
     ]
    }
   ],
   "source": [
    "str_1 = input(\"Ingresa la primera cadena: \")\n",
    "str_2 = input(\"Ingresa la segunda cadena: \")\n",
    "\n",
    "strx_1 = ''.join(sorted(list(str_1.upper().replace(' ',''))))\n",
    "strx_2 = ''.join(sorted(list(str_2.upper().replace(' ',''))))\n",
    "if len(strx_1) > 0 and strx_1 == strx_2:\n",
    "\tprint(\"Anagramas\")\n",
    "else:\n",
    "\tprint(\"No son anagramas\")"
   ]
  },
  {
   "cell_type": "markdown",
   "metadata": {},
   "source": [
    "2.5.9   LAB   El Dígito de la Vida"
   ]
  },
  {
   "cell_type": "code",
   "execution_count": 10,
   "metadata": {},
   "outputs": [
    {
     "name": "stdout",
     "output_type": "stream",
     "text": [
      "20031109\n",
      "16\n",
      "Tu Dígito de la Vida es: 7\n"
     ]
    }
   ],
   "source": [
    "date = input(\"Ingresa tu fecha de cumpleaños (en el siguiente formato: AAAAMMDD o AAAADDMM, 8 dígitos): \")\n",
    "if len(date) != 8 or not date.isdigit():\n",
    "    print(\"Formato de fecha inválida.\")\n",
    "else:\n",
    "    while len(date) > 1:\n",
    "        the_sum = 0\n",
    "        for dig in date:\n",
    "            the_sum += int(dig)\n",
    "        print(date)\n",
    "        date = str(the_sum)\n",
    "    print(\"Tu Dígito de la Vida es: \" + date)"
   ]
  },
  {
   "cell_type": "markdown",
   "metadata": {},
   "source": [
    "2.5.10   LAB   ¡Encuentra una palabra!"
   ]
  },
  {
   "cell_type": "code",
   "execution_count": 11,
   "metadata": {},
   "outputs": [
    {
     "name": "stdout",
     "output_type": "stream",
     "text": [
      "Si\n"
     ]
    }
   ],
   "source": [
    "word = input(\"Ingresa la palabra que deseas encontrar: \").upper()\n",
    "strn = input(\"Ingresa la cadena en donde deseas buscar: \").upper()\n",
    "\n",
    "found = True\n",
    "start = 0\n",
    "\n",
    "for ch in word:\n",
    "\tpos = strn.find(ch, start) \n",
    "\tif pos < 0:\n",
    "\t\tfound = False\n",
    "\t\tbreak\n",
    "\tstart = pos + 1\n",
    "if found:\n",
    "\tprint(\"Si\")\n",
    "else:\n",
    "\tprint(\"No\")"
   ]
  },
  {
   "cell_type": "markdown",
   "metadata": {},
   "source": [
    "2.5.11   LAB   Sudoku"
   ]
  },
  {
   "cell_type": "code",
   "execution_count": 12,
   "metadata": {},
   "outputs": [
    {
     "name": "stdout",
     "output_type": "stream",
     "text": [
      "Datos de fila incorrectos: se requieren 9 dígitos\n"
     ]
    },
    {
     "ename": "KeyboardInterrupt",
     "evalue": "Interrupted by user",
     "output_type": "error",
     "traceback": [
      "\u001b[1;31m---------------------------------------------------------------------------\u001b[0m",
      "\u001b[1;31mKeyboardInterrupt\u001b[0m                         Traceback (most recent call last)",
      "Cell \u001b[1;32mIn[12], line 12\u001b[0m\n\u001b[0;32m     10\u001b[0m ok \u001b[39m=\u001b[39m \u001b[39mFalse\u001b[39;00m\n\u001b[0;32m     11\u001b[0m \u001b[39mwhile\u001b[39;00m \u001b[39mnot\u001b[39;00m ok:\n\u001b[1;32m---> 12\u001b[0m     row \u001b[39m=\u001b[39m \u001b[39minput\u001b[39;49m(\u001b[39m\"\u001b[39;49m\u001b[39mIngresa fila #\u001b[39;49m\u001b[39m\"\u001b[39;49m \u001b[39m+\u001b[39;49m \u001b[39mstr\u001b[39;49m(r \u001b[39m+\u001b[39;49m \u001b[39m1\u001b[39;49m) \u001b[39m+\u001b[39;49m \u001b[39m\"\u001b[39;49m\u001b[39m: \u001b[39;49m\u001b[39m\"\u001b[39;49m)\n\u001b[0;32m     13\u001b[0m     ok \u001b[39m=\u001b[39m \u001b[39mlen\u001b[39m(row) \u001b[39m==\u001b[39m \u001b[39m9\u001b[39m \u001b[39mor\u001b[39;00m row\u001b[39m.\u001b[39misdigit()\n\u001b[0;32m     14\u001b[0m     \u001b[39mif\u001b[39;00m \u001b[39mnot\u001b[39;00m ok:\n",
      "File \u001b[1;32m~\\AppData\\Roaming\\Python\\Python311\\site-packages\\ipykernel\\kernelbase.py:1191\u001b[0m, in \u001b[0;36mKernel.raw_input\u001b[1;34m(self, prompt)\u001b[0m\n\u001b[0;32m   1189\u001b[0m     msg \u001b[39m=\u001b[39m \u001b[39m\"\u001b[39m\u001b[39mraw_input was called, but this frontend does not support input requests.\u001b[39m\u001b[39m\"\u001b[39m\n\u001b[0;32m   1190\u001b[0m     \u001b[39mraise\u001b[39;00m StdinNotImplementedError(msg)\n\u001b[1;32m-> 1191\u001b[0m \u001b[39mreturn\u001b[39;00m \u001b[39mself\u001b[39;49m\u001b[39m.\u001b[39;49m_input_request(\n\u001b[0;32m   1192\u001b[0m     \u001b[39mstr\u001b[39;49m(prompt),\n\u001b[0;32m   1193\u001b[0m     \u001b[39mself\u001b[39;49m\u001b[39m.\u001b[39;49m_parent_ident[\u001b[39m\"\u001b[39;49m\u001b[39mshell\u001b[39;49m\u001b[39m\"\u001b[39;49m],\n\u001b[0;32m   1194\u001b[0m     \u001b[39mself\u001b[39;49m\u001b[39m.\u001b[39;49mget_parent(\u001b[39m\"\u001b[39;49m\u001b[39mshell\u001b[39;49m\u001b[39m\"\u001b[39;49m),\n\u001b[0;32m   1195\u001b[0m     password\u001b[39m=\u001b[39;49m\u001b[39mFalse\u001b[39;49;00m,\n\u001b[0;32m   1196\u001b[0m )\n",
      "File \u001b[1;32m~\\AppData\\Roaming\\Python\\Python311\\site-packages\\ipykernel\\kernelbase.py:1234\u001b[0m, in \u001b[0;36mKernel._input_request\u001b[1;34m(self, prompt, ident, parent, password)\u001b[0m\n\u001b[0;32m   1231\u001b[0m \u001b[39mexcept\u001b[39;00m \u001b[39mKeyboardInterrupt\u001b[39;00m:\n\u001b[0;32m   1232\u001b[0m     \u001b[39m# re-raise KeyboardInterrupt, to truncate traceback\u001b[39;00m\n\u001b[0;32m   1233\u001b[0m     msg \u001b[39m=\u001b[39m \u001b[39m\"\u001b[39m\u001b[39mInterrupted by user\u001b[39m\u001b[39m\"\u001b[39m\n\u001b[1;32m-> 1234\u001b[0m     \u001b[39mraise\u001b[39;00m \u001b[39mKeyboardInterrupt\u001b[39;00m(msg) \u001b[39mfrom\u001b[39;00m \u001b[39mNone\u001b[39;00m\n\u001b[0;32m   1235\u001b[0m \u001b[39mexcept\u001b[39;00m \u001b[39mException\u001b[39;00m:\n\u001b[0;32m   1236\u001b[0m     \u001b[39mself\u001b[39m\u001b[39m.\u001b[39mlog\u001b[39m.\u001b[39mwarning(\u001b[39m\"\u001b[39m\u001b[39mInvalid Message:\u001b[39m\u001b[39m\"\u001b[39m, exc_info\u001b[39m=\u001b[39m\u001b[39mTrue\u001b[39;00m)\n",
      "\u001b[1;31mKeyboardInterrupt\u001b[0m: Interrupted by user"
     ]
    }
   ],
   "source": [
    "# Una función que verifica si una lista pasada como argumento contiene\n",
    "# nueve dígitos del '1' al '9'.\n",
    "def checkset(digs):\n",
    "    return sorted(list(digs)) == [chr(x + ord('0')) for x in range(1, 10)]\n",
    "\n",
    "\n",
    "# Una lista de filas que representan el Sudoku.\n",
    "rows = [ ]\n",
    "for r in range(9):\n",
    "    ok = False\n",
    "    while not ok:\n",
    "        row = input(\"Ingresa fila #\" + str(r + 1) + \": \")\n",
    "        ok = len(row) == 9 or row.isdigit()\n",
    "        if not ok:\n",
    "            print(\"Datos de fila incorrectos: se requieren 9 dígitos\")\n",
    "    rows.append(row)\n",
    "\n",
    "ok = True\n",
    "\n",
    "# Comprobar si todas las filas son correctas.\n",
    "for r in range(9):\n",
    "    if not checkset(rows[r]):\n",
    "        ok = False\n",
    "        break\n",
    "\n",
    "# Comprobar si todas las columnas son correctas.\t\n",
    "if ok:\n",
    "    for c in range(9):\n",
    "        col = []\n",
    "        for r in range(9):\n",
    "            col.append(rows[r][c])\n",
    "        if not checkset(col):\n",
    "            ok = False\n",
    "            break\n",
    "\n",
    "# Comprobar si todos los subcuadrados (3x3) son correctos.\n",
    "if ok:\n",
    "    for r in range(0, 9, 3):\n",
    "        for c in range(0, 9, 3):\n",
    "            sqr = ''\n",
    "            # Hacer una cadena que contenga todos los dígitos de un subcuadrado.\n",
    "            for i in range(3):\n",
    "                sqr += rows[r+i][c:c+3]\n",
    "            if not checkset(list(sqr)):\n",
    "                ok = False\n",
    "                break\n",
    "\n",
    "# Imprimir el veredicto final.\n",
    "if ok:\n",
    "    print(\"Si\")\n",
    "else:\n",
    "    print(\"No\")\n",
    "    "
   ]
  }
 ],
 "metadata": {
  "kernelspec": {
   "display_name": "Python 3",
   "language": "python",
   "name": "python3"
  },
  "language_info": {
   "codemirror_mode": {
    "name": "ipython",
    "version": 3
   },
   "file_extension": ".py",
   "mimetype": "text/x-python",
   "name": "python",
   "nbconvert_exporter": "python",
   "pygments_lexer": "ipython3",
   "version": "3.11.3"
  },
  "orig_nbformat": 4
 },
 "nbformat": 4,
 "nbformat_minor": 2
}
