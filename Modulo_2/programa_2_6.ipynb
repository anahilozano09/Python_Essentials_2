{
 "cells": [
  {
   "cell_type": "code",
   "execution_count": 2,
   "metadata": {},
   "outputs": [
    {
     "name": "stdout",
     "output_type": "stream",
     "text": [
      "4.0\n",
      "FIN.\n"
     ]
    }
   ],
   "source": [
    "first_number = int(input(\"Ingresa el primer número: \"))\n",
    "second_number = int(input(\"Ingresa el segundo número: \"))\n",
    "\n",
    "if second_number != 0:\n",
    "    print(first_number / second_number)\n",
    "else:\n",
    "    print(\"Esta operación no puede ser realizada.\")\n",
    "\n",
    "print(\"FIN.\")"
   ]
  },
  {
   "cell_type": "code",
   "execution_count": 4,
   "metadata": {},
   "outputs": [
    {
     "name": "stdout",
     "output_type": "stream",
     "text": [
      "Esta operación no puede ser realizada.\n",
      "FIN.\n"
     ]
    }
   ],
   "source": [
    "first_number = int(input(\"Ingresa el primer número: \"))\n",
    "second_number = int(input(\"Ingresa el segundo numero: \"))\n",
    "\n",
    "try:\n",
    "    print(first_number / second_number)\n",
    "except:\n",
    "    print(\"Esta operación no puede ser realizada.\")\n",
    "\n",
    "print(\"FIN.\")"
   ]
  },
  {
   "cell_type": "code",
   "execution_count": 5,
   "metadata": {},
   "outputs": [
    {
     "name": "stdout",
     "output_type": "stream",
     "text": [
      "1\n",
      "Oh cielos, algo salió mal...\n",
      "3\n"
     ]
    }
   ],
   "source": [
    "try:\n",
    "    print(\"1\")\n",
    "    x = 1 / 0\n",
    "    print(\"2\")\n",
    "except:\n",
    "    print(\"Oh cielos, algo salió mal...\")\n",
    "\n",
    "print(\"3\")"
   ]
  },
  {
   "cell_type": "code",
   "execution_count": 6,
   "metadata": {},
   "outputs": [
    {
     "name": "stdout",
     "output_type": "stream",
     "text": [
      "FIN.\n"
     ]
    }
   ],
   "source": [
    "try:\n",
    "    x = int(input(\"Ingresa un numero: \"))\n",
    "    y = 1 / x\n",
    "except:\n",
    "    print(\"Oh cielos, algo salió mal...\")\n",
    "\n",
    "print(\"FIN.\")"
   ]
  },
  {
   "cell_type": "code",
   "execution_count": 7,
   "metadata": {},
   "outputs": [
    {
     "name": "stdout",
     "output_type": "stream",
     "text": [
      "0.2\n",
      "FIN.\n"
     ]
    }
   ],
   "source": [
    "try:\n",
    "    x = int(input(\"Ingresa un número: \"))\n",
    "    y = 1 / x\n",
    "    print(y)\n",
    "except ZeroDivisionError:\n",
    "    print(\"No puedes dividir entre cero, lo siento.\")\n",
    "except ValueError:\n",
    "    print(\"Debes ingresar un valor entero..\")\n",
    "except:\n",
    "    print(\"Oh cielos, algo salió mal...\")\n",
    "\n",
    "print(\"FIN.\")"
   ]
  },
  {
   "cell_type": "code",
   "execution_count": 8,
   "metadata": {},
   "outputs": [
    {
     "name": "stdout",
     "output_type": "stream",
     "text": [
      "Oh cielos, algo salió mal...\n",
      "FIN.\n"
     ]
    }
   ],
   "source": [
    "try:\n",
    "    x = int(input(\"Ingresa un número: \"))\n",
    "    y = 1 / x\n",
    "    print(y)\n",
    "except ValueError:\n",
    "    print(\"Debes ingresar un valor entero.\")\n",
    "except:\n",
    "    print(\"Oh cielos, algo salió mal...\")\n",
    "\n",
    "print(\"FIN.\")"
   ]
  },
  {
   "cell_type": "code",
   "execution_count": 9,
   "metadata": {},
   "outputs": [
    {
     "ename": "ZeroDivisionError",
     "evalue": "division by zero",
     "output_type": "error",
     "traceback": [
      "\u001b[1;31m---------------------------------------------------------------------------\u001b[0m",
      "\u001b[1;31mZeroDivisionError\u001b[0m                         Traceback (most recent call last)",
      "Cell \u001b[1;32mIn[9], line 3\u001b[0m\n\u001b[0;32m      1\u001b[0m \u001b[39mtry\u001b[39;00m:\n\u001b[0;32m      2\u001b[0m     x \u001b[39m=\u001b[39m \u001b[39mint\u001b[39m(\u001b[39minput\u001b[39m(\u001b[39m\"\u001b[39m\u001b[39mIngresa un número: \u001b[39m\u001b[39m\"\u001b[39m))\n\u001b[1;32m----> 3\u001b[0m     y \u001b[39m=\u001b[39m \u001b[39m1\u001b[39;49m \u001b[39m/\u001b[39;49m x\n\u001b[0;32m      4\u001b[0m     \u001b[39mprint\u001b[39m(y)\n\u001b[0;32m      5\u001b[0m \u001b[39mexcept\u001b[39;00m \u001b[39mValueError\u001b[39;00m:\n",
      "\u001b[1;31mZeroDivisionError\u001b[0m: division by zero"
     ]
    }
   ],
   "source": [
    "try:\n",
    "    x = int(input(\"Ingresa un número: \"))\n",
    "    y = 1 / x\n",
    "    print(y)\n",
    "except ValueError:\n",
    "    print(\"Debes ingresar un valor entero.\")\n",
    "\n",
    "print(\"FIN.\")"
   ]
  }
 ],
 "metadata": {
  "kernelspec": {
   "display_name": "Python 3",
   "language": "python",
   "name": "python3"
  },
  "language_info": {
   "codemirror_mode": {
    "name": "ipython",
    "version": 3
   },
   "file_extension": ".py",
   "mimetype": "text/x-python",
   "name": "python",
   "nbconvert_exporter": "python",
   "pygments_lexer": "ipython3",
   "version": "3.11.3"
  },
  "orig_nbformat": 4
 },
 "nbformat": 4,
 "nbformat_minor": 2
}
