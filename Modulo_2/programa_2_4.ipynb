{
 "cells": [
  {
   "cell_type": "code",
   "execution_count": 1,
   "metadata": {},
   "outputs": [
    {
     "name": "stdout",
     "output_type": "stream",
     "text": [
      "['omega', 'alpha', 'pi', 'gamma']\n",
      "['alpha', 'gamma', 'omega', 'pi']\n",
      "\n"
     ]
    }
   ],
   "source": [
    "# Demostración de la función sorted():\n",
    "first_greek = ['omega', 'alpha', 'pi', 'gamma']\n",
    "first_greek_2 = sorted(first_greek)\n",
    "\n",
    "print(first_greek)\n",
    "print(first_greek_2)\n",
    "\n",
    "print()"
   ]
  },
  {
   "cell_type": "code",
   "execution_count": 2,
   "metadata": {},
   "outputs": [
    {
     "name": "stdout",
     "output_type": "stream",
     "text": [
      "['omega', 'alpha', 'pi', 'gamma']\n",
      "['alpha', 'gamma', 'omega', 'pi']\n"
     ]
    }
   ],
   "source": [
    "# Demostración del método sort():\n",
    "second_greek = ['omega', 'alpha', 'pi', 'gamma']\n",
    "print(second_greek)\n",
    "\n",
    "second_greek.sort()\n",
    "print(second_greek)"
   ]
  },
  {
   "cell_type": "code",
   "execution_count": 3,
   "metadata": {},
   "outputs": [
    {
     "name": "stdout",
     "output_type": "stream",
     "text": [
      "13 1.3\n"
     ]
    }
   ],
   "source": [
    "itg = 13\n",
    "flt = 1.3\n",
    "si = str(itg)\n",
    "sf = str(flt)\n",
    "\n",
    "print(si + ' ' + sf)"
   ]
  },
  {
   "cell_type": "code",
   "execution_count": 4,
   "metadata": {},
   "outputs": [
    {
     "name": "stdout",
     "output_type": "stream",
     "text": [
      "14.3\n"
     ]
    }
   ],
   "source": [
    "si = '13'\n",
    "sf = '1.3'\n",
    "itg = int(si)\n",
    "flt = float(sf)\n",
    "\n",
    "print(itg + flt)"
   ]
  },
  {
   "cell_type": "markdown",
   "metadata": {},
   "source": [
    "2.4.6   LAB   Un Display LED"
   ]
  },
  {
   "cell_type": "code",
   "execution_count": 5,
   "metadata": {},
   "outputs": [
    {
     "name": "stdout",
     "output_type": "stream",
     "text": [
      "# # ### \n",
      "# # #   \n",
      "### ### \n",
      "  #   # \n",
      "  # ### \n"
     ]
    }
   ],
   "source": [
    "digits = [ '1111110',  \t# 0\n",
    "\t   '0110000',\t# 1\n",
    "\t   '1101101',\t# 2\n",
    "\t   '1111001',\t# 3\n",
    "\t   '0110011',\t# 4\n",
    "\t   '1011011',\t# 5\n",
    "\t   '1011111',\t# 6\n",
    "\t   '1110000',\t# 7\n",
    "\t   '1111111',\t# 8\n",
    "\t   '1111011',\t# 9\n",
    "\t   ]\n",
    "\n",
    "\n",
    "def print_number(num):\n",
    "\tglobal digits\n",
    "\tdigs = str(num)\n",
    "\tlines = [ '' for lin in range(5) ]\n",
    "\tfor d in digs:\n",
    "\t\tsegs = [ [' ',' ',' '] for lin in range(5) ]\n",
    "\t\tptrn = digits[ord(d) - ord('0')]\n",
    "\t\tif ptrn[0] == '1':\n",
    "\t\t\tsegs[0][0] = segs[0][1] = segs[0][2] = '#'\n",
    "\t\tif ptrn[1] == '1':\n",
    "\t\t\tsegs[0][2] = segs[1][2] = segs[2][2] = '#'\n",
    "\t\tif ptrn[2] == '1':\n",
    "\t\t\tsegs[2][2] = segs[3][2] = segs[4][2] = '#'\n",
    "\t\tif ptrn[3] == '1':\n",
    "\t\t\tsegs[4][0] = segs[4][1] = segs[4][2] = '#'\n",
    "\t\tif ptrn[4] == '1':\n",
    "\t\t\tsegs[2][0] = segs[3][0] = segs[4][0] = '#'\n",
    "\t\tif ptrn[5] == '1':\n",
    "\t\t\tsegs[0][0] = segs[1][0] = segs[2][0] = '#'\n",
    "\t\tif ptrn[6] == '1':\n",
    "\t\t\tsegs[2][0] = segs[2][1] = segs[2][2] = '#'\n",
    "\t\tfor lin in range(5):\n",
    "\t\t\tlines[lin] += ''.join(segs[lin]) + ' '\n",
    "\tfor lin in lines:\n",
    "\t\tprint(lin)\n",
    "\n",
    "\n",
    "print_number(int(input(\"Ingresa el número que deseas mostrar: \")))\n",
    "    "
   ]
  }
 ],
 "metadata": {
  "kernelspec": {
   "display_name": "Python 3",
   "language": "python",
   "name": "python3"
  },
  "language_info": {
   "codemirror_mode": {
    "name": "ipython",
    "version": 3
   },
   "file_extension": ".py",
   "mimetype": "text/x-python",
   "name": "python",
   "nbconvert_exporter": "python",
   "pygments_lexer": "ipython3",
   "version": "3.11.3"
  },
  "orig_nbformat": 4
 },
 "nbformat": 4,
 "nbformat_minor": 2
}
