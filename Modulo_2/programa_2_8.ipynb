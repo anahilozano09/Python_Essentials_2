{
 "cells": [
  {
   "cell_type": "markdown",
   "metadata": {},
   "source": [
    "2.8.2   LAB   Leyendo enteros de manera segura"
   ]
  },
  {
   "cell_type": "code",
   "execution_count": 2,
   "metadata": {},
   "outputs": [
    {
     "name": "stdout",
     "output_type": "stream",
     "text": [
      "Error: entrada incorrecta\n",
      "Error: el valor no está dentro del rango permitido (-10..10)\n",
      "Error: el valor no está dentro del rango permitido (-10..10)\n",
      "El número es: 8\n"
     ]
    }
   ],
   "source": [
    "def read_int(prompt, min, max):\n",
    "    ok = False\n",
    "    while not ok:\n",
    "        try:\n",
    "            value = int(input(prompt))\n",
    "            ok = True\n",
    "        except ValueError:\n",
    "            print(\"Error: entrada incorrecta\")\n",
    "        if ok:\n",
    "            ok = value >= min and value <= max\n",
    "        if not ok:\n",
    "            print(\"Error: el valor no está dentro del rango permitido (\" + str(min) + \"..\" + str(max) + \")\")\n",
    "    return value;\n",
    "\n",
    "\n",
    "v = read_int(\"Ingresa un número entre -10 a 10: \", -10, 10)\n",
    "\n",
    "print(\"El número es:\", v)"
   ]
  }
 ],
 "metadata": {
  "kernelspec": {
   "display_name": "Python 3",
   "language": "python",
   "name": "python3"
  },
  "language_info": {
   "codemirror_mode": {
    "name": "ipython",
    "version": 3
   },
   "file_extension": ".py",
   "mimetype": "text/x-python",
   "name": "python",
   "nbconvert_exporter": "python",
   "pygments_lexer": "ipython3",
   "version": "3.11.3"
  },
  "orig_nbformat": 4
 },
 "nbformat": 4,
 "nbformat_minor": 2
}
