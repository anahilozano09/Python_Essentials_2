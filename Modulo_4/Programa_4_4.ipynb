{
 "cells": [
  {
   "cell_type": "code",
   "execution_count": 7,
   "metadata": {},
   "outputs": [
    {
     "name": "stdout",
     "output_type": "stream",
     "text": [
      "uname_result(system='Windows', node='LAPTOP-A3NJD60F', release='10', version='10.0.22621', machine='AMD64')\n"
     ]
    }
   ],
   "source": [
    "import platform, os\n",
    "print(platform.uname())"
   ]
  },
  {
   "cell_type": "code",
   "execution_count": 8,
   "metadata": {},
   "outputs": [
    {
     "name": "stdout",
     "output_type": "stream",
     "text": [
      "nt\n"
     ]
    }
   ],
   "source": [
    "import os\n",
    "print(os.name)"
   ]
  },
  {
   "cell_type": "code",
   "execution_count": 9,
   "metadata": {},
   "outputs": [
    {
     "name": "stdout",
     "output_type": "stream",
     "text": [
      "['estudiantes.txt', 'file.bin', 'my_first_directory', 'newtext.txt', 'Programa_4_1.ipynb', 'Programa_4_4.ipynb', 'Progrma_4_3.ipynb', 'sampleText.txt', 'sampleText2.txt', 'sampleText2.txt.hist']\n"
     ]
    }
   ],
   "source": [
    "import os\n",
    "\n",
    "os.mkdir(\"my_first_directory\")\n",
    "print(os.listdir())"
   ]
  },
  {
   "cell_type": "code",
   "execution_count": 10,
   "metadata": {},
   "outputs": [
    {
     "name": "stdout",
     "output_type": "stream",
     "text": [
      "['my_second_directory']\n"
     ]
    }
   ],
   "source": [
    "import os\n",
    "\n",
    "os.makedirs(\"my_first_directory/my_second_directory\")\n",
    "os.chdir(\"my_first_directory\")\n",
    "print(os.listdir())"
   ]
  },
  {
   "cell_type": "code",
   "execution_count": 11,
   "metadata": {},
   "outputs": [
    {
     "name": "stdout",
     "output_type": "stream",
     "text": [
      "d:\\Documentos\\ICO\\Python Essentials 2\\Programacion\\Modulo_4\\my_first_directory\\my_first_directory\n",
      "d:\\Documentos\\ICO\\Python Essentials 2\\Programacion\\Modulo_4\\my_first_directory\\my_first_directory\\my_second_directory\n"
     ]
    }
   ],
   "source": [
    "import os\n",
    "\n",
    "os.makedirs(\"my_first_directory/my_second_directory\")\n",
    "os.chdir(\"my_first_directory\")\n",
    "print(os.getcwd())\n",
    "os.chdir(\"my_second_directory\")\n",
    "print(os.getcwd())"
   ]
  },
  {
   "cell_type": "code",
   "execution_count": 3,
   "metadata": {},
   "outputs": [
    {
     "name": "stdout",
     "output_type": "stream",
     "text": [
      "['estudiantes.txt', 'file.bin', 'my_first_directory', 'newtext.txt', 'Programa_4_1.ipynb', 'Programa_4_4.ipynb', 'Progrma_4_3.ipynb', 'sampleText.txt', 'sampleText2.txt', 'sampleText2.txt.hist']\n",
      "['estudiantes.txt', 'file.bin', 'newtext.txt', 'Programa_4_1.ipynb', 'Programa_4_4.ipynb', 'Progrma_4_3.ipynb', 'sampleText.txt', 'sampleText2.txt', 'sampleText2.txt.hist']\n"
     ]
    }
   ],
   "source": [
    "import os\n",
    "\n",
    "os.mkdir(\"my_first_directory\")\n",
    "print(os.listdir())\n",
    "os.rmdir(\"my_first_directory\")\n",
    "print(os.listdir())"
   ]
  },
  {
   "cell_type": "code",
   "execution_count": 4,
   "metadata": {},
   "outputs": [
    {
     "name": "stdout",
     "output_type": "stream",
     "text": [
      "['estudiantes.txt', 'file.bin', 'newtext.txt', 'Programa_4_1.ipynb', 'Programa_4_4.ipynb', 'Progrma_4_3.ipynb', 'sampleText.txt', 'sampleText2.txt', 'sampleText2.txt.hist']\n"
     ]
    }
   ],
   "source": [
    "import os\n",
    " \n",
    "os.makedirs(\"my_first_directory/my_second_directory\")\n",
    "os.removedirs(\"my_first_directory/my_second_directory\")\n",
    "print(os.listdir())"
   ]
  },
  {
   "cell_type": "code",
   "execution_count": 5,
   "metadata": {},
   "outputs": [
    {
     "name": "stdout",
     "output_type": "stream",
     "text": [
      "0\n"
     ]
    }
   ],
   "source": [
    "import os\n",
    "\n",
    "returned_value = os.system(\"mkdir my_first_directory\")\n",
    "print(returned_value)"
   ]
  },
  {
   "cell_type": "markdown",
   "metadata": {},
   "source": [
    "4.4.8   LAB   El módulo os"
   ]
  },
  {
   "cell_type": "code",
   "execution_count": 6,
   "metadata": {},
   "outputs": [],
   "source": [
    "import os\n",
    "\n",
    "class DirectorySearcher:\n",
    "    def find(self, path, dir):\n",
    "        try:\n",
    "            os.chdir(path)\n",
    "        except OSError:\n",
    "            # No procesa un archivo que no es un directorio.\n",
    "            return\n",
    "\n",
    "        current_dir = os.getcwd()\n",
    "        for entry in os.listdir(\".\"):\n",
    "            if entry == dir:\n",
    "                print(os.getcwd() + \"/\" + dir)\n",
    "            self.find(current_dir + \"/\" + entry, dir)\n",
    "\n",
    "\n",
    "directory_searchv3er = DirectorySearcher()\n",
    "directory_searchv3er.find(\"./tree\", \"python\")"
   ]
  }
 ],
 "metadata": {
  "kernelspec": {
   "display_name": "Python 3",
   "language": "python",
   "name": "python3"
  },
  "language_info": {
   "codemirror_mode": {
    "name": "ipython",
    "version": 3
   },
   "file_extension": ".py",
   "mimetype": "text/x-python",
   "name": "python",
   "nbconvert_exporter": "python",
   "pygments_lexer": "ipython3",
   "version": "3.11.3"
  },
  "orig_nbformat": 4
 },
 "nbformat": 4,
 "nbformat_minor": 2
}
