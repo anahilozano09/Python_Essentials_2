{
 "cells": [
  {
   "cell_type": "code",
   "execution_count": 1,
   "metadata": {},
   "outputs": [
    {
     "name": "stdout",
     "output_type": "stream",
     "text": [
      "(1, 4, 27)\n"
     ]
    }
   ],
   "source": [
    "my_list = [1, 2, 3]\n",
    "# Insertar línea de código aquí.\n",
    "foo = tuple(map(lambda x: x**x, my_list))  \n",
    "print(foo)"
   ]
  },
  {
   "cell_type": "code",
   "execution_count": 2,
   "metadata": {},
   "outputs": [
    {
     "name": "stdout",
     "output_type": "stream",
     "text": [
      "[2, 3, 4, 5, 6]\n"
     ]
    }
   ],
   "source": [
    "my_tuple = (0, 1, 2, 3, 4, 5, 6)\n",
    "# Insertar línea de código aquí.\n",
    "foo = list(filter(lambda x: x-0 and x-1, my_tuple))  \n",
    "print(foo)"
   ]
  },
  {
   "cell_type": "code",
   "execution_count": 3,
   "metadata": {},
   "outputs": [
    {
     "name": "stdout",
     "output_type": "stream",
     "text": [
      "ace"
     ]
    }
   ],
   "source": [
    "def I():\n",
    "    s = 'abcdef'\n",
    "    for c in s[::2]:\n",
    "        yield c\n",
    " \n",
    " \n",
    "for x in I():\n",
    "    print(x, end='')"
   ]
  },
  {
   "cell_type": "code",
   "execution_count": 4,
   "metadata": {},
   "outputs": [
    {
     "name": "stdout",
     "output_type": "stream",
     "text": [
      "++++++"
     ]
    }
   ],
   "source": [
    "def fun(n):\n",
    "    s = '+'\n",
    "    for i in range(n):\n",
    "        s += s\n",
    "        yield s\n",
    " \n",
    " \n",
    "for x in fun(2):\n",
    "    print(x, end='')"
   ]
  },
  {
   "cell_type": "code",
   "execution_count": 5,
   "metadata": {},
   "outputs": [
    {
     "name": "stdout",
     "output_type": "stream",
     "text": [
      "***\n"
     ]
    }
   ],
   "source": [
    "def o(p):\n",
    "    def q():\n",
    "        return '*' * p\n",
    "    return q\n",
    " \n",
    " \n",
    "r = o(1)\n",
    "s = o(2)\n",
    "print(r() + s())"
   ]
  },
  {
   "cell_type": "code",
   "execution_count": 6,
   "metadata": {},
   "outputs": [
    {
     "name": "stdout",
     "output_type": "stream",
     "text": [
      "bytearray(b'\\x00\\x00\\x00')\n"
     ]
    }
   ],
   "source": [
    "b = bytearray(3)\n",
    "print(b)"
   ]
  },
  {
   "cell_type": "code",
   "execution_count": 7,
   "metadata": {},
   "outputs": [
    {
     "name": "stdout",
     "output_type": "stream",
     "text": [
      "d:\\Documentos\\ICO\\Python Essentials 2\\Programacion\\Modulo_4\\pictures\n"
     ]
    }
   ],
   "source": [
    "import os\n",
    " \n",
    "os.mkdir('pictures')\n",
    "os.chdir('pictures')\n",
    "os.mkdir('thumbnails')\n",
    "os.chdir('thumbnails')\n",
    "os.mkdir('tmp')\n",
    "os.chdir('../')\n",
    " \n",
    "print(os.getcwd())\n",
    " "
   ]
  },
  {
   "cell_type": "code",
   "execution_count": 1,
   "metadata": {},
   "outputs": [
    {
     "name": "stdout",
     "output_type": "stream",
     "text": [
      "['large', 'medium', 'small']\n"
     ]
    }
   ],
   "source": [
    "import os\n",
    " \n",
    "os.mkdir('thumbnails')\n",
    "os.chdir('thumbnails')\n",
    " \n",
    "sizes = ['small', 'medium', 'large']\n",
    " \n",
    "for size in sizes:\n",
    "    os.mkdir(size)\n",
    " \n",
    "print(os.listdir())"
   ]
  },
  {
   "cell_type": "code",
   "execution_count": 2,
   "metadata": {},
   "outputs": [
    {
     "name": "stdout",
     "output_type": "stream",
     "text": [
      "345 days, 0:00:00\n"
     ]
    }
   ],
   "source": [
    "from datetime import date\n",
    " \n",
    "date_1 = date(1992, 1, 16)\n",
    "date_2 = date(1991, 2, 5)\n",
    " \n",
    "print(date_1 - date_2)"
   ]
  },
  {
   "cell_type": "code",
   "execution_count": 3,
   "metadata": {},
   "outputs": [
    {
     "name": "stdout",
     "output_type": "stream",
     "text": [
      "19/November/27 11:27:22\n"
     ]
    }
   ],
   "source": [
    "from datetime import datetime\n",
    " \n",
    "datetime = datetime(2019, 11, 27, 11, 27, 22)\n",
    "print(datetime.strftime('%y/%B/%d %H:%M:%S'))"
   ]
  },
  {
   "cell_type": "code",
   "execution_count": 4,
   "metadata": {},
   "outputs": [
    {
     "name": "stdout",
     "output_type": "stream",
     "text": [
      "Mo Tu We Th Fr Sa Su\n"
     ]
    }
   ],
   "source": [
    "import calendar\n",
    "print(calendar.weekheader(2))"
   ]
  },
  {
   "cell_type": "code",
   "execution_count": 5,
   "metadata": {},
   "outputs": [
    {
     "name": "stdout",
     "output_type": "stream",
     "text": [
      "0 1 2 3 4 5 6 "
     ]
    }
   ],
   "source": [
    "import calendar\n",
    " \n",
    "c = calendar.Calendar()\n",
    " \n",
    "for weekday in c.iterweekdays():\n",
    "    print(weekday, end=\" \")\n",
    " "
   ]
  }
 ],
 "metadata": {
  "kernelspec": {
   "display_name": "Python 3",
   "language": "python",
   "name": "python3"
  },
  "language_info": {
   "codemirror_mode": {
    "name": "ipython",
    "version": 3
   },
   "file_extension": ".py",
   "mimetype": "text/x-python",
   "name": "python",
   "nbconvert_exporter": "python",
   "pygments_lexer": "ipython3",
   "version": "3.11.3"
  },
  "orig_nbformat": 4
 },
 "nbformat": 4,
 "nbformat_minor": 2
}
