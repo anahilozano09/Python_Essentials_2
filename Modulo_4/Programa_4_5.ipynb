{
 "cells": [
  {
   "cell_type": "code",
   "execution_count": 1,
   "metadata": {},
   "outputs": [
    {
     "name": "stdout",
     "output_type": "stream",
     "text": [
      "Hoy: 2023-07-31\n",
      "Año: 2023\n",
      "Mes: 7\n",
      "Día: 31\n"
     ]
    }
   ],
   "source": [
    "from datetime import date\n",
    "\n",
    "today = date.today()\n",
    "\n",
    "print(\"Hoy:\", today)\n",
    "print(\"Año:\", today.year)\n",
    "print(\"Mes:\", today.month)\n",
    "print(\"Día:\", today.day)"
   ]
  },
  {
   "cell_type": "code",
   "execution_count": 2,
   "metadata": {},
   "outputs": [
    {
     "name": "stdout",
     "output_type": "stream",
     "text": [
      "2019-11-04\n"
     ]
    }
   ],
   "source": [
    "from datetime import date\n",
    "\n",
    "my_date = date(2019, 11, 4)\n",
    "print(my_date)"
   ]
  },
  {
   "cell_type": "code",
   "execution_count": 15,
   "metadata": {},
   "outputs": [
    {
     "name": "stdout",
     "output_type": "stream",
     "text": [
      "Marca de tiempo: 1690860460.4707043\n",
      "Fecha: 2023-07-31\n"
     ]
    }
   ],
   "source": [
    "from datetime import date\n",
    "import time\n",
    "\n",
    "timestamp = time.time()\n",
    "print(\"Marca de tiempo:\", timestamp)\n",
    "\n",
    "d = date.fromtimestamp(timestamp)\n",
    "print(\"Fecha:\", d)"
   ]
  },
  {
   "cell_type": "code",
   "execution_count": 4,
   "metadata": {},
   "outputs": [
    {
     "name": "stdout",
     "output_type": "stream",
     "text": [
      "1991-02-05\n",
      "1992-01-16\n"
     ]
    }
   ],
   "source": [
    "from datetime import date\n",
    "\n",
    "d = date(1991, 2, 5)\n",
    "print(d)\n",
    "\n",
    "d = d.replace(year=1992, month=1, day=16)\n",
    "print(d)"
   ]
  },
  {
   "cell_type": "code",
   "execution_count": 5,
   "metadata": {},
   "outputs": [
    {
     "name": "stdout",
     "output_type": "stream",
     "text": [
      "0\n"
     ]
    }
   ],
   "source": [
    "from datetime import date\n",
    "\n",
    "d = date(2019, 11, 4)\n",
    "print(d.weekday())"
   ]
  },
  {
   "cell_type": "code",
   "execution_count": 6,
   "metadata": {},
   "outputs": [
    {
     "name": "stdout",
     "output_type": "stream",
     "text": [
      "1\n"
     ]
    }
   ],
   "source": [
    "from datetime import date\n",
    " \n",
    "d = date(2019, 11, 4)\n",
    "print(d.isoweekday())"
   ]
  },
  {
   "cell_type": "code",
   "execution_count": 7,
   "metadata": {},
   "outputs": [
    {
     "name": "stdout",
     "output_type": "stream",
     "text": [
      "Tiempo: 14:53:20.000001\n",
      "Hora: 14\n",
      "Minutos: 53\n",
      "Segundos: 20\n",
      "Microsegundo: 1\n"
     ]
    }
   ],
   "source": [
    "from datetime import time\n",
    "\n",
    "t = time(14, 53, 20, 1)\n",
    "\n",
    "print(\"Tiempo:\", t)\n",
    "print(\"Hora:\", t.hour)\n",
    "print(\"Minutos:\", t.minute)\n",
    "print(\"Segundos:\", t.second)\n",
    "print(\"Microsegundo:\", t.microsecond)"
   ]
  },
  {
   "cell_type": "code",
   "execution_count": 9,
   "metadata": {},
   "outputs": [
    {
     "name": "stdout",
     "output_type": "stream",
     "text": [
      "Estoy muy cansado. Tengo que tomar una siesta. Hasta luego.\n",
      "¡Dormí bien! ¡Me siento genial!\n"
     ]
    }
   ],
   "source": [
    "import time\n",
    "\n",
    "class Student:\n",
    "    def take_nap(self, seconds):\n",
    "        print(\"Estoy muy cansado. Tengo que tomar una siesta. Hasta luego.\")\n",
    "        time.sleep(seconds)\n",
    "        print(\"¡Dormí bien! ¡Me siento genial!\")\n",
    "\n",
    "student = Student()\n",
    "student.take_nap(5)"
   ]
  },
  {
   "cell_type": "code",
   "execution_count": 11,
   "metadata": {},
   "outputs": [
    {
     "name": "stdout",
     "output_type": "stream",
     "text": [
      "Mon Jul 31 21:19:42 2023\n"
     ]
    }
   ],
   "source": [
    "import time\n",
    "\n",
    "timestamp = 1690859982\n",
    "print(time.ctime(timestamp))"
   ]
  },
  {
   "cell_type": "code",
   "execution_count": 12,
   "metadata": {},
   "outputs": [
    {
     "name": "stdout",
     "output_type": "stream",
     "text": [
      "Mon Jul 31 21:22:18 2023\n"
     ]
    }
   ],
   "source": [
    "import time\n",
    "print(time.ctime())"
   ]
  },
  {
   "cell_type": "code",
   "execution_count": 14,
   "metadata": {},
   "outputs": [
    {
     "name": "stdout",
     "output_type": "stream",
     "text": [
      "time.struct_time(tm_year=2023, tm_mon=8, tm_mday=1, tm_hour=3, tm_min=24, tm_sec=49, tm_wday=1, tm_yday=213, tm_isdst=0)\n",
      "time.struct_time(tm_year=2023, tm_mon=7, tm_mday=31, tm_hour=21, tm_min=24, tm_sec=49, tm_wday=0, tm_yday=212, tm_isdst=0)\n"
     ]
    }
   ],
   "source": [
    "import time\n",
    "\n",
    "timestamp = 1690860289\n",
    "print(time.gmtime(timestamp))\n",
    "print(time.localtime(timestamp))"
   ]
  },
  {
   "cell_type": "code",
   "execution_count": 16,
   "metadata": {},
   "outputs": [
    {
     "name": "stdout",
     "output_type": "stream",
     "text": [
      "Tue Aug  1 03:27:40 2023\n",
      "1572900780.0\n"
     ]
    }
   ],
   "source": [
    "import time\n",
    "\n",
    "timestamp = 1690860460\n",
    "st = time.gmtime(timestamp)\n",
    "\n",
    "print(time.asctime(st))\n",
    "print(time.mktime((2019, 11, 4, 14, 53, 0, 0, 308, 0)))\n",
    "    "
   ]
  },
  {
   "cell_type": "code",
   "execution_count": 22,
   "metadata": {},
   "outputs": [
    {
     "name": "stdout",
     "output_type": "stream",
     "text": [
      "Fecha y hora:2023-07-31 21:34:00\n",
      "Fecha:2023-07-31\n",
      "Hora:21:38:00\n"
     ]
    }
   ],
   "source": [
    "import datetime\n",
    "\n",
    "print(\"Fecha y hora:\" + str(datetime.datetime(2023,7,31,21,34)))\n",
    "print(\"Fecha:\" + str(datetime.date(2023,7,31)))\n",
    "print(\"Hora:\"+ str(datetime.time(21,38)))"
   ]
  },
  {
   "cell_type": "code",
   "execution_count": 23,
   "metadata": {},
   "outputs": [
    {
     "name": "stdout",
     "output_type": "stream",
     "text": [
      "hoy: 2023-07-31 21:40:21.346862\n",
      "ahora: 2023-07-31 21:40:21.346862\n",
      "utc_ahora: 2023-08-01 03:40:21.346862\n"
     ]
    }
   ],
   "source": [
    "from datetime import datetime\n",
    "\n",
    "print(\"hoy:\", datetime.today())\n",
    "print(\"ahora:\", datetime.now())\n",
    "print(\"utc_ahora:\", datetime.utcnow())"
   ]
  },
  {
   "cell_type": "code",
   "execution_count": 24,
   "metadata": {},
   "outputs": [
    {
     "name": "stdout",
     "output_type": "stream",
     "text": [
      "Timestamp: 1601844900.0\n"
     ]
    }
   ],
   "source": [
    "from datetime import datetime\n",
    "\n",
    "dt = datetime(2020, 10, 4, 14, 55)\n",
    "print(\"Timestamp:\", dt.timestamp())"
   ]
  },
  {
   "cell_type": "code",
   "execution_count": 26,
   "metadata": {},
   "outputs": [
    {
     "name": "stdout",
     "output_type": "stream",
     "text": [
      "2020/01/04\n"
     ]
    }
   ],
   "source": [
    "from datetime import date\n",
    "\n",
    "d = date(2020, 1, 4)\n",
    "print(d.strftime('%Y/%m/%d'))"
   ]
  },
  {
   "cell_type": "code",
   "execution_count": 27,
   "metadata": {},
   "outputs": [
    {
     "name": "stdout",
     "output_type": "stream",
     "text": [
      "14:53:00\n",
      "20/November/04 14:53:00\n"
     ]
    }
   ],
   "source": [
    "from datetime import time\n",
    "from datetime import datetime\n",
    "\n",
    "t = time(14, 53)\n",
    "print(t.strftime(\"%H:%M:%S\"))\n",
    "\n",
    "dt = datetime(2020, 11, 4, 14, 53)\n",
    "print(dt.strftime(\"%y/%B/%d %H:%M:%S\"))"
   ]
  },
  {
   "cell_type": "code",
   "execution_count": 28,
   "metadata": {},
   "outputs": [
    {
     "name": "stdout",
     "output_type": "stream",
     "text": [
      "2019/11/04 14:53:00\n",
      "2023/07/31 21:48:35\n"
     ]
    }
   ],
   "source": [
    "import time\n",
    "\n",
    "timestamp = 1572879180\n",
    "st = time.gmtime(timestamp)\n",
    "\n",
    "print(time.strftime(\"%Y/%m/%d %H:%M:%S\", st))\n",
    "print(time.strftime(\"%Y/%m/%d %H:%M:%S\"))"
   ]
  },
  {
   "cell_type": "code",
   "execution_count": 29,
   "metadata": {},
   "outputs": [
    {
     "name": "stdout",
     "output_type": "stream",
     "text": [
      "2019-11-04 14:53:00\n"
     ]
    }
   ],
   "source": [
    "from datetime import datetime\n",
    "print(datetime.strptime(\"2019/11/04 14:53:00\", \"%Y/%m/%d %H:%M:%S\"))"
   ]
  },
  {
   "cell_type": "code",
   "execution_count": 30,
   "metadata": {},
   "outputs": [
    {
     "name": "stdout",
     "output_type": "stream",
     "text": [
      "time.struct_time(tm_year=2019, tm_mon=11, tm_mday=4, tm_hour=14, tm_min=53, tm_sec=0, tm_wday=0, tm_yday=308, tm_isdst=-1)\n"
     ]
    }
   ],
   "source": [
    "import time\n",
    "print(time.strptime(\"2019/11/04 14:53:00\", \"%Y/%m/%d %H:%M:%S\"))"
   ]
  },
  {
   "cell_type": "code",
   "execution_count": 31,
   "metadata": {},
   "outputs": [
    {
     "name": "stdout",
     "output_type": "stream",
     "text": [
      "366 days, 0:00:00\n",
      "365 days, 9:07:00\n"
     ]
    }
   ],
   "source": [
    "from datetime import date\n",
    "from datetime import datetime\n",
    "\n",
    "d1 = date(2020, 11, 4)\n",
    "d2 = date(2019, 11, 4)\n",
    "\n",
    "print(d1 - d2)\n",
    "\n",
    "dt1 = datetime(2020, 11, 4, 0, 0, 0)\n",
    "dt2 = datetime(2019, 11, 4, 14, 53, 0)\n",
    "\n",
    "print(dt1 - dt2)"
   ]
  },
  {
   "cell_type": "code",
   "execution_count": 32,
   "metadata": {},
   "outputs": [
    {
     "name": "stdout",
     "output_type": "stream",
     "text": [
      "16 days, 3:00:00\n"
     ]
    }
   ],
   "source": [
    "from datetime import timedelta\n",
    "\n",
    "delta = timedelta(weeks=2, days=2, hours=3)\n",
    "print(delta)"
   ]
  },
  {
   "cell_type": "code",
   "execution_count": 33,
   "metadata": {},
   "outputs": [
    {
     "name": "stdout",
     "output_type": "stream",
     "text": [
      "Días: 16\n",
      "Segundos: 10800\n",
      "Microsegundos: 0\n"
     ]
    }
   ],
   "source": [
    "from datetime import timedelta\n",
    " \n",
    "delta = timedelta(weeks=2, days=2, hours=3)\n",
    "print(\"Días:\", delta.days)\n",
    "print(\"Segundos:\", delta.seconds)\n",
    "print(\"Microsegundos:\", delta.microseconds)"
   ]
  },
  {
   "cell_type": "code",
   "execution_count": 34,
   "metadata": {},
   "outputs": [
    {
     "name": "stdout",
     "output_type": "stream",
     "text": [
      "16 days, 2:00:00\n",
      "32 days, 4:00:00\n",
      "2019-11-05\n",
      "2019-11-05 18:53:00\n"
     ]
    }
   ],
   "source": [
    "from datetime import timedelta\n",
    "from datetime import date\n",
    "from datetime import datetime\n",
    "\n",
    "delta = timedelta(weeks=2, days=2, hours=2)\n",
    "print(delta)\n",
    "\n",
    "delta2 = delta * 2\n",
    "print(delta2)\n",
    "\n",
    "d = date(2019, 10, 4) + delta2\n",
    "print(d)\n",
    "\n",
    "dt = datetime(2019, 10, 4, 14, 53) + delta2\n",
    "print(dt)"
   ]
  },
  {
   "cell_type": "markdown",
   "metadata": {},
   "source": [
    "4.5.20   LAB   Los módulos datetime y time"
   ]
  },
  {
   "cell_type": "code",
   "execution_count": 35,
   "metadata": {},
   "outputs": [
    {
     "name": "stdout",
     "output_type": "stream",
     "text": [
      "2020/11/04 14:53:00\n",
      "20/November/04 14:53:00 PM\n",
      "Wed, 2020 Nov 04\n",
      "Wednesday, 2020 November 04\n",
      "Día de la semana: 3\n",
      "Día del año: 309\n",
      "Número de semana en el año: 44\n"
     ]
    }
   ],
   "source": [
    "from datetime import datetime\n",
    "\n",
    "my_date = datetime(2020, 11, 4, 14, 53)\n",
    "\n",
    "print(my_date.strftime(\"%Y/%m/%d %H:%M:%S\"))\n",
    "print(my_date.strftime(\"%y/%B/%d %H:%M:%S %p\"))\n",
    "print(my_date.strftime(\"%a, %Y %b %d\"))\n",
    "print(my_date.strftime(\"%A, %Y %B %d\"))\n",
    "print(my_date.strftime(\"Día de la semana: %w\"))\n",
    "print(my_date.strftime(\"Día del año: %j\"))\n",
    "print(my_date.strftime(\"Número de semana en el año: %W\"))\n"
   ]
  }
 ],
 "metadata": {
  "kernelspec": {
   "display_name": "Python 3",
   "language": "python",
   "name": "python3"
  },
  "language_info": {
   "codemirror_mode": {
    "name": "ipython",
    "version": 3
   },
   "file_extension": ".py",
   "mimetype": "text/x-python",
   "name": "python",
   "nbconvert_exporter": "python",
   "pygments_lexer": "ipython3",
   "version": "3.11.3"
  },
  "orig_nbformat": 4
 },
 "nbformat": 4,
 "nbformat_minor": 2
}
