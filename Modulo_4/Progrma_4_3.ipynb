{
 "cells": [
  {
   "cell_type": "code",
   "execution_count": 1,
   "metadata": {},
   "outputs": [],
   "source": [
    "from os import strerror\n",
    "\n",
    "try:\n",
    "\tfile = open('newtext.txt', 'wt') # Un nuevo archivo (newtext.txt) es creado.\n",
    "\tfor i in range(10):\n",
    "\t\ts = \"línea #\" + str(i+1) + \"\\n\"\n",
    "\t\tfor char in s:\n",
    "\t\t\tfile.write(char)\n",
    "\tfile.close()\n",
    "except IOError as e:\n",
    "\tprint(\"Se produjo un error de E/S: \", strerror(e.errno))"
   ]
  },
  {
   "cell_type": "code",
   "execution_count": 2,
   "metadata": {},
   "outputs": [],
   "source": [
    "from os import strerror\n",
    "\n",
    "try:\n",
    "    file = open('newtext.txt', 'wt')\n",
    "    for i in range(10):\n",
    "        file.write(\"línea #\" + str(i+1) + \"\\n\")\n",
    "    file.close()\n",
    "except IOError as e:\n",
    "    print(\"Se produjo un error de E/S: \", strerror(e.errno))"
   ]
  },
  {
   "cell_type": "code",
   "execution_count": 3,
   "metadata": {},
   "outputs": [
    {
     "name": "stdout",
     "output_type": "stream",
     "text": [
      "0xa\n",
      "0x9\n",
      "0x8\n",
      "0x7\n",
      "0x6\n",
      "0x5\n",
      "0x4\n",
      "0x3\n",
      "0x2\n",
      "0x1\n"
     ]
    }
   ],
   "source": [
    "data = bytearray(10)\n",
    "\n",
    "for i in range(len(data)):\n",
    "    data[i] = 10 - i\n",
    "\n",
    "for b in data:\n",
    "    print(hex(b))"
   ]
  },
  {
   "cell_type": "code",
   "execution_count": 4,
   "metadata": {},
   "outputs": [],
   "source": [
    "from os import strerror\n",
    "\n",
    "data = bytearray(10)\n",
    "\n",
    "for i in range(len(data)):\n",
    "    data[i] = 10 + i\n",
    "\n",
    "try:\n",
    "    bf = open('file.bin', 'wb')\n",
    "    bf.write(data)\n",
    "    bf.close()\n",
    "except IOError as e:\n",
    "    print(\"Se produjo un error de E/S:\", strerror(e.errno))"
   ]
  },
  {
   "cell_type": "code",
   "execution_count": 5,
   "metadata": {},
   "outputs": [
    {
     "name": "stdout",
     "output_type": "stream",
     "text": [
      "0xa 0xb 0xc 0xd 0xe 0xf 0x10 0x11 0x12 0x13 "
     ]
    }
   ],
   "source": [
    "from os import strerror\n",
    "\n",
    "data = bytearray(10)\n",
    "\n",
    "try:\n",
    "    binary_file = open('file.bin', 'rb')\n",
    "    binary_file.readinto(data)\n",
    "    binary_file.close()\n",
    "\n",
    "    for b in data:\n",
    "        print(hex(b), end=' ')\n",
    "except IOError as e:\n",
    "    print(\"Se produjo un error de E/S:\", strerror(e.errno))\n",
    "    "
   ]
  },
  {
   "cell_type": "code",
   "execution_count": 6,
   "metadata": {},
   "outputs": [
    {
     "name": "stdout",
     "output_type": "stream",
     "text": [
      "0xa 0xb 0xc 0xd 0xe 0xf 0x10 0x11 0x12 0x13 "
     ]
    }
   ],
   "source": [
    "from os import strerror\n",
    "\n",
    "try:\n",
    "    binary_file = open('file.bin', 'rb')\n",
    "    data = bytearray(binary_file.read())\n",
    "    binary_file.close()\n",
    "\n",
    "    for b in data:\n",
    "        print(hex(b), end=' ')\n",
    "\n",
    "except IOError as e:\n",
    "    print(\"Se produjo un error de E/S:\", strerror(e.errno))"
   ]
  },
  {
   "cell_type": "code",
   "execution_count": 7,
   "metadata": {},
   "outputs": [
    {
     "name": "stdout",
     "output_type": "stream",
     "text": [
      "0xa 0xb 0xc 0xd 0xe "
     ]
    }
   ],
   "source": [
    "from os import strerror\n",
    "\n",
    "try:\n",
    "    binary_file = open('file.bin', 'rb')\n",
    "    data = bytearray(binary_file.read(5))\n",
    "    binary_file.close()\n",
    "\n",
    "    for b in data:\n",
    "        print(hex(b), end=' ')\n",
    "\n",
    "except IOError as e:\n",
    "    print(\"Se produjo un error de E/S:\", strerror(e.errno))"
   ]
  },
  {
   "cell_type": "markdown",
   "metadata": {},
   "source": [
    "4.3.8   LAB   Histograma de frecuencia de caracteres"
   ]
  },
  {
   "cell_type": "code",
   "execution_count": 1,
   "metadata": {},
   "outputs": [
    {
     "name": "stdout",
     "output_type": "stream",
     "text": [
      "a -> 1\n",
      "b -> 1\n",
      "c -> 1\n"
     ]
    }
   ],
   "source": [
    "from os import strerror\n",
    "\n",
    "# Inicializa 26 contadores para cada letra latina.\n",
    "# Nota: hemos usado una comprensión para esto.\n",
    "counters = {chr(ch): 0 for ch in range(ord('a'), ord('z') + 1)}\n",
    "file_name = input(\"Ingresa el nombre del archivo a analizar: \")\n",
    "try:\n",
    "    file = open(file_name, \"rt\")\n",
    "    for line in file:\n",
    "        for char in line:\n",
    "            # Si es una letra...\n",
    "            if char.isalpha():\n",
    "                # ... lo trataremos en minúsculas y actualizaremos el contador apropiado.\n",
    "                counters[char.lower()] += 1\n",
    "    file.close()\n",
    "    # Imprimamos los contadores.\n",
    "    for char in counters.keys():\n",
    "        c = counters[char]\n",
    "        if c > 0:\n",
    "            print(char, '->', c)\n",
    "except IOError as e:\n",
    "    print(\"Se produjo un error de E/S: \", strerror(e.errno))"
   ]
  },
  {
   "cell_type": "markdown",
   "metadata": {},
   "source": [
    "4.3.9   LAB   Histograma de frecuencia de caracteres ordenado"
   ]
  },
  {
   "cell_type": "code",
   "execution_count": 3,
   "metadata": {},
   "outputs": [
    {
     "name": "stdout",
     "output_type": "stream",
     "text": [
      "Se produjo un error de E/S:  No such file or directory\n"
     ]
    }
   ],
   "source": [
    "from os import strerror\n",
    "\n",
    "counters = {chr(ch): 0 for ch in range(ord('a'), ord('z') + 1)}\n",
    "file_name = input(\"Ingresa el nombre del archivo a analizar: \")\n",
    "try:\n",
    "    file = open(file_name, \"rt\")\n",
    "    for line in file:\n",
    "        for char in line:\n",
    "            if char.isalpha():\n",
    "                counters[char.lower()] += 1\n",
    "    file.close()\n",
    "    file = open(file_name + '.hist', 'wt')\n",
    "    # Nota: hemos utilizado una lambda para acceder a los elementos del directorio y se ha establecido reverse a True para obtener un orden válido.\n",
    "    for char in sorted(counters.keys(), key=lambda x: counters[x], reverse=True):\n",
    "        c = counters[char]\n",
    "        if c > 0:\n",
    "            file.write(char + ' -> ' + str(c) + '\\n')\n",
    "    file.close()\n",
    "except IOError as e:\n",
    "    print(\"Se produjo un error de E/S: \", strerror(e.errno))\n",
    "    "
   ]
  },
  {
   "cell_type": "markdown",
   "metadata": {},
   "source": [
    "4.3.10   LAB   Evaluando los resultados de los estudiantes"
   ]
  },
  {
   "cell_type": "code",
   "execution_count": 4,
   "metadata": {},
   "outputs": [
    {
     "name": "stdout",
     "output_type": "stream",
     "text": [
      "Andrew Cox \t 1.5\n",
      "Anna Boleyn \t 15.5\n",
      "John Smith \t 7.0\n"
     ]
    }
   ],
   "source": [
    "# Una clase de la excepción base para nuestro código:\n",
    "class StudentsDataException(Exception):\n",
    "    pass\n",
    "\n",
    "\n",
    "# Una excepción para líneas erróneas:\n",
    "class WrongLine(StudentsDataException):\n",
    "    def __init__(self, line_number, line_string):\n",
    "        super().__init__(self)\n",
    "        self.line_number = line_number\n",
    "        self.line_string = line_string\n",
    "\n",
    "\n",
    "# Una excepción para un archivo vacío.\n",
    "class FileEmpty(StudentsDataException):\n",
    "    def __init__(self):\n",
    "        super().__init__(self)\n",
    "\n",
    "\n",
    "from os import strerror\n",
    "\n",
    "# Un diccionario para los datos de los estudiantes:\n",
    "data = { }\n",
    "\n",
    "file_name = input(\"Ingresa el nombre del archivo de datos del estudiante: \")\n",
    "line_number = 1\n",
    "try:\n",
    "    f = open(file_name, \"rt\")\n",
    "    # Leer el archivo completo en la lista.\n",
    "    lines = f.readlines()\n",
    "    f.close()\n",
    "    # ¿El archivo está vacío?\n",
    "    if len(lines) == 0:\n",
    "        raise FileEmpty()\n",
    "    # Escanee el archivo línea por línea.\n",
    "    for i in range(len(lines)):\n",
    "        # Obtener la línea n.\n",
    "        line = lines[i]\n",
    "        # Divídirlo en columnas.\n",
    "        columns = line.split()\n",
    "        # Debe haber 3 columnas, ¿están ahí?\n",
    "        if len(columns) != 3:\n",
    "            raise WrongLine(i + 1, line)\n",
    "        # Construye una clave a partir del nombre y apellido del estudiante.\n",
    "        student = columns[0] + ' ' + columns[1]\n",
    "        # Obtener puntos.\n",
    "        try:\n",
    "            points = float(columns[2])\n",
    "        except ValueError:\n",
    "            raise WrongLine(i + 1, line)\n",
    "        # Actualizar el diccionario.\n",
    "        try:\n",
    "            data[student] += points\n",
    "        except KeyError:\n",
    "            data[student] = points\n",
    "    # Imprimir resultados.\n",
    "    for student in sorted(data.keys()):\n",
    "        print(student,'\\t', data[student])\n",
    "\n",
    "except IOError as e:\n",
    "    print(\"Se produjo un error de E/S: \", strerror(e.errno))\n",
    "except WrongLine as e:\n",
    "    print(\"Línea incorrecta #\" + str(e.line_number) + \" en el archivo fuente:\" + e.line_string)\n",
    "except FileEmpty:\n",
    "    print(\"Archivo fuente vacío\")\n",
    "    "
   ]
  },
  {
   "cell_type": "code",
   "execution_count": 2,
   "metadata": {},
   "outputs": [
    {
     "name": "stdout",
     "output_type": "stream",
     "text": [
      "hola\n"
     ]
    }
   ],
   "source": [
    "for x in open('hola.txt', 'rt'):\n",
    "    print(x)"
   ]
  }
 ],
 "metadata": {
  "kernelspec": {
   "display_name": "Python 3",
   "language": "python",
   "name": "python3"
  },
  "language_info": {
   "codemirror_mode": {
    "name": "ipython",
    "version": 3
   },
   "file_extension": ".py",
   "mimetype": "text/x-python",
   "name": "python",
   "nbconvert_exporter": "python",
   "pygments_lexer": "ipython3",
   "version": "3.11.3"
  },
  "orig_nbformat": 4
 },
 "nbformat": 4,
 "nbformat_minor": 2
}
